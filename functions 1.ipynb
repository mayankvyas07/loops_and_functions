{
 "cells": [
  {
   "cell_type": "code",
   "execution_count": null,
   "id": "7cb329d6",
   "metadata": {},
   "outputs": [],
   "source": [
    "Q1. Python program to sort a list of tuples based on integer value using a lambda function:\n",
    "\n",
    "python\n",
    "Copy code\n",
    "data = [('Sachin Tendulkar', 34357), ('Ricky Ponting', 27483), ('Jack Kallis', 25534), ('Virat Kohli', 24936)]\n",
    "sorted_data = sorted(data, key=lambda x: x[1])\n",
    "print(sorted_data)\n",
    "Q2. Python program to find squares of numbers in a list using lambda and map functions:\n",
    "\n",
    "python\n",
    "Copy code\n",
    "numbers = [1, 2, 3, 4, 5, 6, 7, 8, 9, 10]\n",
    "squares = list(map(lambda x: x**2, numbers))\n",
    "print(squares)\n",
    "Q3. Python program to convert a list of integers into a tuple of strings using map and lambda functions:\n",
    "\n",
    "python\n",
    "Copy code\n",
    "integers = [1, 2, 3, 4, 5, 6, 7, 8, 9, 10]\n",
    "string_tuple = tuple(map(lambda x: str(x), integers))\n",
    "print(string_tuple)\n",
    "Q4. Python program using reduce function to compute the product of a list containing numbers from 1 to 25:\n",
    "\n",
    "python\n",
    "Copy code\n",
    "from functools import reduce\n",
    "\n",
    "numbers = list(range(1, 26))\n",
    "product = reduce(lambda x, y: x * y, numbers)\n",
    "print(\"Product:\", product)\n",
    "Q5. Python program to filter numbers divisible by 2 and 3 using the filter function:\n",
    "\n",
    "python\n",
    "Copy code\n",
    "numbers = [2, 3, 6, 9, 27, 60, 90, 120, 55, 46]\n",
    "divisible_by_2_and_3 = list(filter(lambda x: x % 2 == 0 and x % 3 == 0, numbers))\n",
    "print(divisible_by_2_and_3)\n",
    "Q6. Python program to find palindromes in a list of strings using lambda and filter functions:\n",
    "\n",
    "python\n",
    "Copy code\n",
    "strings = ['python', 'php', 'aba', 'radar', 'level']\n",
    "palindromes = list(filter(lambda s: s == s[::-1], strings))\n",
    "print(palindromes)"
   ]
  }
 ],
 "metadata": {
  "kernelspec": {
   "display_name": "Python 3 (ipykernel)",
   "language": "python",
   "name": "python3"
  },
  "language_info": {
   "codemirror_mode": {
    "name": "ipython",
    "version": 3
   },
   "file_extension": ".py",
   "mimetype": "text/x-python",
   "name": "python",
   "nbconvert_exporter": "python",
   "pygments_lexer": "ipython3",
   "version": "3.9.13"
  }
 },
 "nbformat": 4,
 "nbformat_minor": 5
}
